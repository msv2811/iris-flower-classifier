{
 "cells": [
  {
   "cell_type": "code",
   "execution_count": 1,
   "id": "13ce0cc9-c960-4099-84ce-ee0d613b8bb7",
   "metadata": {},
   "outputs": [
    {
     "name": "stdout",
     "output_type": "stream",
     "text": [
      "Requirement already satisfied: streamlit in c:\\users\\madha\\anaconda3\\lib\\site-packages (1.45.1)\n",
      "Requirement already satisfied: pillow in c:\\users\\madha\\anaconda3\\lib\\site-packages (11.1.0)\n",
      "Requirement already satisfied: requests in c:\\users\\madha\\anaconda3\\lib\\site-packages (2.32.3)\n",
      "Requirement already satisfied: altair<6,>=4.0 in c:\\users\\madha\\anaconda3\\lib\\site-packages (from streamlit) (5.5.0)\n",
      "Requirement already satisfied: blinker<2,>=1.5.0 in c:\\users\\madha\\anaconda3\\lib\\site-packages (from streamlit) (1.9.0)\n",
      "Requirement already satisfied: cachetools<6,>=4.0 in c:\\users\\madha\\anaconda3\\lib\\site-packages (from streamlit) (5.5.1)\n",
      "Requirement already satisfied: click<9,>=7.0 in c:\\users\\madha\\anaconda3\\lib\\site-packages (from streamlit) (8.1.8)\n",
      "Requirement already satisfied: numpy<3,>=1.23 in c:\\users\\madha\\anaconda3\\lib\\site-packages (from streamlit) (2.1.3)\n",
      "Requirement already satisfied: packaging<25,>=20 in c:\\users\\madha\\anaconda3\\lib\\site-packages (from streamlit) (24.2)\n",
      "Requirement already satisfied: pandas<3,>=1.4.0 in c:\\users\\madha\\anaconda3\\lib\\site-packages (from streamlit) (2.2.3)\n",
      "Requirement already satisfied: protobuf<7,>=3.20 in c:\\users\\madha\\anaconda3\\lib\\site-packages (from streamlit) (5.29.3)\n",
      "Requirement already satisfied: pyarrow>=7.0 in c:\\users\\madha\\anaconda3\\lib\\site-packages (from streamlit) (19.0.0)\n",
      "Requirement already satisfied: tenacity<10,>=8.1.0 in c:\\users\\madha\\anaconda3\\lib\\site-packages (from streamlit) (9.0.0)\n",
      "Requirement already satisfied: toml<2,>=0.10.1 in c:\\users\\madha\\anaconda3\\lib\\site-packages (from streamlit) (0.10.2)\n",
      "Requirement already satisfied: typing-extensions<5,>=4.4.0 in c:\\users\\madha\\anaconda3\\lib\\site-packages (from streamlit) (4.12.2)\n",
      "Requirement already satisfied: watchdog<7,>=2.1.5 in c:\\users\\madha\\anaconda3\\lib\\site-packages (from streamlit) (4.0.2)\n",
      "Requirement already satisfied: gitpython!=3.1.19,<4,>=3.0.7 in c:\\users\\madha\\anaconda3\\lib\\site-packages (from streamlit) (3.1.43)\n",
      "Requirement already satisfied: tornado<7,>=6.0.3 in c:\\users\\madha\\anaconda3\\lib\\site-packages (from streamlit) (6.5.1)\n",
      "Requirement already satisfied: charset-normalizer<4,>=2 in c:\\users\\madha\\anaconda3\\lib\\site-packages (from requests) (3.3.2)\n",
      "Requirement already satisfied: idna<4,>=2.5 in c:\\users\\madha\\anaconda3\\lib\\site-packages (from requests) (3.7)\n",
      "Requirement already satisfied: urllib3<3,>=1.21.1 in c:\\users\\madha\\anaconda3\\lib\\site-packages (from requests) (2.3.0)\n",
      "Requirement already satisfied: certifi>=2017.4.17 in c:\\users\\madha\\anaconda3\\lib\\site-packages (from requests) (2025.8.3)\n",
      "Requirement already satisfied: jinja2 in c:\\users\\madha\\anaconda3\\lib\\site-packages (from altair<6,>=4.0->streamlit) (3.1.6)\n",
      "Requirement already satisfied: jsonschema>=3.0 in c:\\users\\madha\\anaconda3\\lib\\site-packages (from altair<6,>=4.0->streamlit) (4.23.0)\n",
      "Requirement already satisfied: narwhals>=1.14.2 in c:\\users\\madha\\anaconda3\\lib\\site-packages (from altair<6,>=4.0->streamlit) (1.31.0)\n",
      "Requirement already satisfied: colorama in c:\\users\\madha\\anaconda3\\lib\\site-packages (from click<9,>=7.0->streamlit) (0.4.6)\n",
      "Requirement already satisfied: gitdb<5,>=4.0.1 in c:\\users\\madha\\anaconda3\\lib\\site-packages (from gitpython!=3.1.19,<4,>=3.0.7->streamlit) (4.0.7)\n",
      "Requirement already satisfied: smmap<5,>=3.0.1 in c:\\users\\madha\\anaconda3\\lib\\site-packages (from gitdb<5,>=4.0.1->gitpython!=3.1.19,<4,>=3.0.7->streamlit) (4.0.0)\n",
      "Requirement already satisfied: python-dateutil>=2.8.2 in c:\\users\\madha\\anaconda3\\lib\\site-packages (from pandas<3,>=1.4.0->streamlit) (2.9.0.post0)\n",
      "Requirement already satisfied: pytz>=2020.1 in c:\\users\\madha\\anaconda3\\lib\\site-packages (from pandas<3,>=1.4.0->streamlit) (2024.1)\n",
      "Requirement already satisfied: tzdata>=2022.7 in c:\\users\\madha\\anaconda3\\lib\\site-packages (from pandas<3,>=1.4.0->streamlit) (2025.2)\n",
      "Requirement already satisfied: attrs>=22.2.0 in c:\\users\\madha\\anaconda3\\lib\\site-packages (from jsonschema>=3.0->altair<6,>=4.0->streamlit) (24.3.0)\n",
      "Requirement already satisfied: jsonschema-specifications>=2023.03.6 in c:\\users\\madha\\anaconda3\\lib\\site-packages (from jsonschema>=3.0->altair<6,>=4.0->streamlit) (2023.7.1)\n",
      "Requirement already satisfied: referencing>=0.28.4 in c:\\users\\madha\\anaconda3\\lib\\site-packages (from jsonschema>=3.0->altair<6,>=4.0->streamlit) (0.30.2)\n",
      "Requirement already satisfied: rpds-py>=0.7.1 in c:\\users\\madha\\anaconda3\\lib\\site-packages (from jsonschema>=3.0->altair<6,>=4.0->streamlit) (0.22.3)\n",
      "Requirement already satisfied: six>=1.5 in c:\\users\\madha\\anaconda3\\lib\\site-packages (from python-dateutil>=2.8.2->pandas<3,>=1.4.0->streamlit) (1.17.0)\n",
      "Requirement already satisfied: MarkupSafe>=2.0 in c:\\users\\madha\\anaconda3\\lib\\site-packages (from jinja2->altair<6,>=4.0->streamlit) (3.0.2)\n"
     ]
    }
   ],
   "source": [
    "!pip install streamlit pillow requests"
   ]
  },
  {
   "cell_type": "code",
   "execution_count": 4,
   "id": "f7130d2d-2b27-44da-9794-24a639329d2d",
   "metadata": {},
   "outputs": [
    {
     "name": "stdout",
     "output_type": "stream",
     "text": [
      "Overwriting app.py\n"
     ]
    }
   ],
   "source": [
    "%%writefile app.py\n",
    "import streamlit as st\n",
    "import joblib\n",
    "import numpy as np\n",
    "import requests\n",
    "from PIL import Image\n",
    "from io import BytesIO\n",
    "\n",
    "# Load trained model\n",
    "model = joblib.load(\"iris_model.pkl\")\n",
    "\n",
    "st.title(\"🌸 Iris Flower Classifier (with Live Images)\")\n",
    "st.write(\"Enter the measurements below and I'll predict the flower species!\")\n",
    "\n",
    "# Input sliders\n",
    "sepal_length = st.slider(\"Sepal Length (cm)\", 4.0, 8.0, 5.0)\n",
    "sepal_width = st.slider(\"Sepal Width (cm)\", 2.0, 4.5, 3.0)\n",
    "petal_length = st.slider(\"Petal Length (cm)\", 1.0, 7.0, 4.0)\n",
    "petal_width = st.slider(\"Petal Width (cm)\", 0.1, 2.5, 1.0)\n",
    "\n",
    "# Make prediction\n",
    "features = np.array([[sepal_length, sepal_width, petal_length, petal_width]])\n",
    "prediction = model.predict(features)[0]\n",
    "\n",
    "# Map numeric prediction to species name\n",
    "species_map = {0: \"setosa\", 1: \"versicolor\", 2: \"virginica\"}\n",
    "predicted_species = species_map[int(prediction)]\n",
    "\n",
    "# Show prediction\n",
    "st.subheader(f\"🌼 Predicted Species: {predicted_species.capitalize()}\")\n",
    "\n",
    "# Fetch online image (Unsplash API)\n",
    "query = f\"iris {predicted_species} flower\"\n",
    "ACCESS_KEY = \"8IkezrDDFguYaRdnVtxq4S_-aMnpzQF0oAp7Q0hPtXg\"  # Replace with your real Unsplash API key\n",
    "\n",
    "url = f\"https://api.unsplash.com/photos/random?query={query}&client_id={ACCESS_KEY}&orientation=squarish\"\n",
    "response = requests.get(url)\n",
    "\n",
    "if response.status_code == 200:\n",
    "    data = response.json()\n",
    "    img_url = data['urls']['regular']\n",
    "    img_response = requests.get(img_url)\n",
    "    img = Image.open(BytesIO(img_response.content))\n",
    "    st.image(img, caption=predicted_species.capitalize(), use_container_width=True)\n",
    "else:\n",
    "    st.write(\"⚠️ Could not fetch image right now.\")\n"
   ]
  }
 ],
 "metadata": {
  "kernelspec": {
   "display_name": "Python [conda env:base] *",
   "language": "python",
   "name": "conda-base-py"
  },
  "language_info": {
   "codemirror_mode": {
    "name": "ipython",
    "version": 3
   },
   "file_extension": ".py",
   "mimetype": "text/x-python",
   "name": "python",
   "nbconvert_exporter": "python",
   "pygments_lexer": "ipython3",
   "version": "3.13.5"
  }
 },
 "nbformat": 4,
 "nbformat_minor": 5
}
